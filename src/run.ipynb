{
 "cells": [
  {
   "cell_type": "markdown",
   "metadata": {},
   "source": [
    "# Notebook for running auto-generation scripts"
   ]
  },
  {
   "cell_type": "markdown",
   "metadata": {},
   "source": [
    "## Dance & Sex parts normalization & combination "
   ]
  },
  {
   "cell_type": "code",
   "execution_count": 1,
   "metadata": {},
   "outputs": [
    {
     "name": "stdout",
     "output_type": "stream",
     "text": [
      "Detected 1 sex parts\n",
      "Trimmed music script: from 808 to 205\n",
      "v_music < v_sex_part. No normalization is executed\n",
      "Music part is normalized with the weight 1 and parts are combined\n"
     ]
    }
   ],
   "source": [
    "import normalize\n",
    "normalize.normalize('/Volumes/MacExHDD/MMD/iwara/2309/Iwara - 21.Fu Xuan❤️~gentleman [NhEGPUZzK7HUpZ] [Source].funscript')"
   ]
  },
  {
   "cell_type": "markdown",
   "metadata": {},
   "source": [
    "## Template generation for a special feature article of a specific music"
   ]
  },
  {
   "cell_type": "markdown",
   "metadata": {},
   "source": [
    "## For monthly iwara review"
   ]
  },
  {
   "cell_type": "code",
   "execution_count": null,
   "metadata": {},
   "outputs": [],
   "source": [
    "from template_generation import generate_md\n",
    "\n",
    "generate_md('iwara 2308', 'iwara 2307')"
   ]
  },
  {
   "cell_type": "markdown",
   "metadata": {},
   "source": [
    "## For dance compilation"
   ]
  },
  {
   "cell_type": "code",
   "execution_count": null,
   "metadata": {},
   "outputs": [],
   "source": [
    "from template_generation import generate_md\n",
    "\n",
    "generate_md('Happy Halloween', 'シニカルナイトプラン')"
   ]
  },
  {
   "cell_type": "code",
   "execution_count": null,
   "metadata": {},
   "outputs": [],
   "source": []
  }
 ],
 "metadata": {
  "kernelspec": {
   "display_name": "base",
   "language": "python",
   "name": "python3"
  },
  "language_info": {
   "codemirror_mode": {
    "name": "ipython",
    "version": 3
   },
   "file_extension": ".py",
   "mimetype": "text/x-python",
   "name": "python",
   "nbconvert_exporter": "python",
   "pygments_lexer": "ipython3",
   "version": "3.9.7"
  }
 },
 "nbformat": 4,
 "nbformat_minor": 2
}
