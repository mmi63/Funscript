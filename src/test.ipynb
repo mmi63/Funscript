{
 "cells": [
  {
   "cell_type": "markdown",
   "metadata": {},
   "source": [
    "# Various test codes"
   ]
  },
  {
   "cell_type": "markdown",
   "metadata": {},
   "source": [
    "## Test for template generation"
   ]
  },
  {
   "cell_type": "code",
   "execution_count": 1,
   "metadata": {},
   "outputs": [],
   "source": [
    "import gspread\n",
    "from oauth2client.service_account import ServiceAccountCredentials\n",
    "\n",
    "scope = ['https://spreadsheets.google.com/feeds', 'https://www.googleapis.com/auth/drive']\n",
    "credentials = ServiceAccountCredentials.from_json_keyfile_name('funscript-4be905c4dda4.json', scope)\n",
    "gc = gspread.authorize(credentials)\n",
    "SPREADSHEET_KEY = '1CWxXCjYrvOH01FGGQX5wR-imdng848vw6HfxawA6oUI'\n",
    "worksheet = gc.open_by_key(SPREADSHEET_KEY).sheet1"
   ]
  },
  {
   "cell_type": "code",
   "execution_count": 2,
   "metadata": {},
   "outputs": [],
   "source": [
    "import pandas as pd\n",
    "\n",
    "data = worksheet.get_all_values()\n",
    "df = pd.DataFrame(data[1:], columns=data[0])"
   ]
  },
  {
   "cell_type": "code",
   "execution_count": 3,
   "metadata": {},
   "outputs": [
    {
     "data": {
      "text/html": [
       "<div>\n",
       "<style scoped>\n",
       "    .dataframe tbody tr th:only-of-type {\n",
       "        vertical-align: middle;\n",
       "    }\n",
       "\n",
       "    .dataframe tbody tr th {\n",
       "        vertical-align: top;\n",
       "    }\n",
       "\n",
       "    .dataframe thead th {\n",
       "        text-align: right;\n",
       "    }\n",
       "</style>\n",
       "<table border=\"1\" class=\"dataframe\">\n",
       "  <thead>\n",
       "    <tr style=\"text-align: right;\">\n",
       "      <th></th>\n",
       "      <th>#</th>\n",
       "      <th>title</th>\n",
       "      <th>link</th>\n",
       "      <th>creator</th>\n",
       "      <th>category</th>\n",
       "      <th>post</th>\n",
       "      <th>Comments</th>\n",
       "      <th>description</th>\n",
       "      <th>music</th>\n",
       "      <th>artist</th>\n",
       "      <th>bpm</th>\n",
       "      <th>HQ</th>\n",
       "      <th>Check</th>\n",
       "      <th>Other post</th>\n",
       "    </tr>\n",
       "  </thead>\n",
       "  <tbody>\n",
       "    <tr>\n",
       "      <th>28</th>\n",
       "      <td>29</td>\n",
       "      <td>[MMD R18]きゃっとイリヤのシニカルナイトプラン</td>\n",
       "      <td>https://www.iwara.tv/video/v9xxvu97qhe92w8v</td>\n",
       "      <td>nanashi108</td>\n",
       "      <td>Dance</td>\n",
       "      <td>https://discuss.eroscripts.com/t/dance-sex-mmd...</td>\n",
       "      <td></td>\n",
       "      <td>シニカルナイトプラン</td>\n",
       "      <td>シニカルナイトプラン</td>\n",
       "      <td>Ayase</td>\n",
       "      <td>120</td>\n",
       "      <td>TRUE</td>\n",
       "      <td>TRUE</td>\n",
       "      <td></td>\n",
       "    </tr>\n",
       "    <tr>\n",
       "      <th>29</th>\n",
       "      <td>30</td>\n",
       "      <td>[MMD R18]きゃっときりたんのシニカルナイトプラン</td>\n",
       "      <td>https://www.iwara.tv/video/odvl0ijyws1vw2mm</td>\n",
       "      <td>nanashi108</td>\n",
       "      <td>Dance</td>\n",
       "      <td>https://discuss.eroscripts.com/t/dance-sex-mmd...</td>\n",
       "      <td></td>\n",
       "      <td>シニカルナイトプラン</td>\n",
       "      <td>シニカルナイトプラン</td>\n",
       "      <td>Ayase</td>\n",
       "      <td>120</td>\n",
       "      <td>TRUE</td>\n",
       "      <td>TRUE</td>\n",
       "      <td></td>\n",
       "    </tr>\n",
       "    <tr>\n",
       "      <th>30</th>\n",
       "      <td>31</td>\n",
       "      <td>[MMD R18]バニーセイバーアルトリアのシニカルナイトプラン</td>\n",
       "      <td>https://www.iwara.tv/video/jo7qbslgesg1jw1k</td>\n",
       "      <td>nanashi108</td>\n",
       "      <td>Dance</td>\n",
       "      <td>https://discuss.eroscripts.com/t/dance-sex-mmd...</td>\n",
       "      <td></td>\n",
       "      <td>シニカルナイトプラン</td>\n",
       "      <td>シニカルナイトプラン</td>\n",
       "      <td>Ayase</td>\n",
       "      <td>120</td>\n",
       "      <td>TRUE</td>\n",
       "      <td>TRUE</td>\n",
       "      <td></td>\n",
       "    </tr>\n",
       "  </tbody>\n",
       "</table>\n",
       "</div>"
      ],
      "text/plain": [
       "     #                                title  \\\n",
       "28  29         [MMD R18]きゃっとイリヤのシニカルナイトプラン   \n",
       "29  30        [MMD R18]きゃっときりたんのシニカルナイトプラン   \n",
       "30  31  [MMD R18]バニーセイバーアルトリアのシニカルナイトプラン   \n",
       "\n",
       "                                           link     creator category  \\\n",
       "28  https://www.iwara.tv/video/v9xxvu97qhe92w8v  nanashi108    Dance   \n",
       "29  https://www.iwara.tv/video/odvl0ijyws1vw2mm  nanashi108    Dance   \n",
       "30  https://www.iwara.tv/video/jo7qbslgesg1jw1k  nanashi108    Dance   \n",
       "\n",
       "                                                 post Comments description  \\\n",
       "28  https://discuss.eroscripts.com/t/dance-sex-mmd...           シニカルナイトプラン   \n",
       "29  https://discuss.eroscripts.com/t/dance-sex-mmd...           シニカルナイトプラン   \n",
       "30  https://discuss.eroscripts.com/t/dance-sex-mmd...           シニカルナイトプラン   \n",
       "\n",
       "         music artist  bpm    HQ Check Other post  \n",
       "28  シニカルナイトプラン  Ayase  120  TRUE  TRUE             \n",
       "29  シニカルナイトプラン  Ayase  120  TRUE  TRUE             \n",
       "30  シニカルナイトプラン  Ayase  120  TRUE  TRUE             "
      ]
     },
     "execution_count": 3,
     "metadata": {},
     "output_type": "execute_result"
    }
   ],
   "source": [
    "df_filtered = df[df['description']==\"シニカルナイトプラン\"]\n",
    "df_filtered[0:3]"
   ]
  },
  {
   "cell_type": "code",
   "execution_count": 4,
   "metadata": {},
   "outputs": [
    {
     "name": "stdout",
     "output_type": "stream",
     "text": [
      "Pandas(Index=28, _1='29', title='[MMD R18]きゃっとイリヤのシニカルナイトプラン', link='https://www.iwara.tv/video/v9xxvu97qhe92w8v', creator='nanashi108', category='Dance', post='https://discuss.eroscripts.com/t/dance-sex-mmd-scripts/126799', Comments=' ', description='シニカルナイトプラン', music='シニカルナイトプラン', artist='Ayase', bpm='120', HQ='TRUE', Check='TRUE', _14='')\n",
      "Pandas(Index=29, _1='30', title='[MMD R18]きゃっときりたんのシニカルナイトプラン', link='https://www.iwara.tv/video/odvl0ijyws1vw2mm', creator='nanashi108', category='Dance', post='https://discuss.eroscripts.com/t/dance-sex-mmd-scripts/126799', Comments=' ', description='シニカルナイトプラン', music='シニカルナイトプラン', artist='Ayase', bpm='120', HQ='TRUE', Check='TRUE', _14='')\n",
      "Pandas(Index=30, _1='31', title='[MMD R18]バニーセイバーアルトリアのシニカルナイトプラン', link='https://www.iwara.tv/video/jo7qbslgesg1jw1k', creator='nanashi108', category='Dance', post='https://discuss.eroscripts.com/t/dance-sex-mmd-scripts/126799', Comments=' ', description='シニカルナイトプラン', music='シニカルナイトプラン', artist='Ayase', bpm='120', HQ='TRUE', Check='TRUE', _14='')\n",
      "Pandas(Index=31, _1='32', title='[MMD R18]美遊のシニカルナイトプラン', link='https://www.iwara.tv/video/vmkwysl3zfezbvwz', creator='nanashi108', category='Dance', post='https://discuss.eroscripts.com/t/dance-sex-mmd-scripts/126799', Comments='representative', description='シニカルナイトプラン', music='シニカルナイトプラン', artist='Ayase', bpm='120', HQ='TRUE', Check='TRUE', _14='')\n",
      "Pandas(Index=32, _1='33', title='[艦これ][紳士ハンド]山風でシニカルナイトプラン', link='https://www.iwara.tv/video/yzbeghvqmqf0gqryv', creator='HAL EN', category='Sex & Dance', post='https://discuss.eroscripts.com/t/dance-sex-mmd-scripts/126799', Comments=' ', description='シニカルナイトプラン', music='シニカルナイトプラン', artist='Ayase', bpm='120', HQ='TRUE', Check='TRUE', _14='')\n",
      "Pandas(Index=33, _1='34', title='シニカルナイトプラン・Cynical Night Plan Sour Miku', link='https://www.iwara.tv/video/kxk6yt8o3zhqbe0q2', creator='moneko', category='Dance', post='https://discuss.eroscripts.com/t/dance-sex-mmd-scripts/126799', Comments=' ', description='シニカルナイトプラン', music='シニカルナイトプラン', artist='Ayase', bpm='120', HQ='TRUE', Check='TRUE', _14='')\n",
      "Pandas(Index=34, _1='35', title='【MMD R-18】ミクさんでシニカルナイトプラン', link='https://www.iwara.tv/video/03qgdtxpgtzr36ll', creator='mmdhhk', category='Dance', post='https://discuss.eroscripts.com/t/dance-sex-mmd-scripts/126799', Comments='representative', description='シニカルナイトプラン', music='シニカルナイトプラン', artist='Ayase', bpm='120', HQ='TRUE', Check='TRUE', _14='')\n",
      "Pandas(Index=35, _1='36', title='【MMD R-18】ライザちゃんでシニカルナイトプラン', link='https://www.iwara.tv/video/ak9pzfme8u8y9k6q', creator='mmdhhk', category='Dance', post='https://discuss.eroscripts.com/t/dance-sex-mmd-scripts/126799', Comments=' ', description='シニカルナイトプラン', music='シニカルナイトプラン', artist='Ayase', bpm='120', HQ='TRUE', Check='TRUE', _14='')\n",
      "Pandas(Index=36, _1='37', title='【MMD R18】ランジェリーなAQたんで「シニカルナイトプラン」', link='https://www.iwara.tv/video/yq9rbtr1wc9g1zrq', creator='ダンリック', category='Dance', post='https://discuss.eroscripts.com/t/dance-sex-mmd-scripts/126799', Comments=' ', description='シニカルナイトプラン', music='シニカルナイトプラン', artist='Ayase', bpm='120', HQ='TRUE', Check='TRUE', _14='')\n",
      "Pandas(Index=37, _1='38', title='Cynical Night Plan', link='https://www.iwara.tv/video/doglbcrewik82zv6', creator='zekamashi7', category='Dance', post='https://discuss.eroscripts.com/t/dance-sex-mmd-scripts/126799', Comments=' ', description='シニカルナイトプラン', music='シニカルナイトプラン', artist='Ayase', bpm='120', HQ='TRUE', Check='TRUE', _14='')\n",
      "Pandas(Index=38, _1='39', title='Cynical night plan', link='https://www.iwara.tv/video/e1dzbsbmnmck58mgm', creator='avharu', category='Dance', post='https://discuss.eroscripts.com/t/dance-sex-mmd-scripts/126799', Comments='representative', description='シニカルナイトプラン', music='シニカルナイトプラン', artist='Ayase', bpm='120', HQ='TRUE', Check='TRUE', _14='')\n",
      "Pandas(Index=39, _1='40', title='ペコリーヌ シニカルナイトプラン', link='https://www.iwara.tv/video/lwokqilzzzunyppav', creator='avharu', category='Dance', post='https://discuss.eroscripts.com/t/dance-sex-mmd-scripts/126799', Comments=' ', description='シニカルナイトプラン', music='シニカルナイトプラン', artist='Ayase', bpm='120', HQ='TRUE', Check='TRUE', _14='')\n",
      "Pandas(Index=40, _1='41', title='リン シニカルナイトプラン', link='https://www.iwara.tv/video/5aa1btpqaqtwr84mz', creator='avharu', category='Dance', post='https://discuss.eroscripts.com/t/dance-sex-mmd-scripts/126799', Comments='different offset', description='シニカルナイトプラン', music='シニカルナイトプラン', artist='Ayase', bpm='120', HQ='TRUE', Check='TRUE', _14='')\n",
      "Pandas(Index=41, _1='42', title='S.T - Cynical Night Plan', link='https://www.iwara.tv/video/9jg67s3xn9uzjmbg5', creator='icewhitemoca', category='Dance', post='https://discuss.eroscripts.com/t/dance-sex-mmd-scripts/126799', Comments=' ', description='シニカルナイトプラン', music='シニカルナイトプラン', artist='Ayase', bpm='120', HQ='TRUE', Check='TRUE', _14='')\n",
      "Pandas(Index=42, _1='43', title='アイリベルダ シニカルナイトプラン', link='https://www.iwara.tv/video/344m5sry4f80mnay', creator='heirdamu', category='Dance', post='https://discuss.eroscripts.com/t/dance-sex-mmd-scripts/126799', Comments=' ', description='シニカルナイトプラン', music='シニカルナイトプラン', artist='Ayase', bpm='120', HQ='TRUE', Check='TRUE', _14='')\n",
      "Pandas(Index=43, _1='44', title='シニカルナイトプラン / Cynical Night Plan | 獅白ぼたん / Shishiro Botan POV', link='https://www.iwara.tv/video/r8aexfmkvridpo6e9', creator='poyopoyo', category='Sex & Dance', post='https://discuss.eroscripts.com/t/dance-sex-mmd-scripts/126799', Comments=' ', description='シニカルナイトプラン', music='シニカルナイトプラン', artist='Ayase', bpm='120', HQ='TRUE', Check='TRUE', _14='')\n",
      "Pandas(Index=44, _1='45', title='シニカルナイトプラン', link='https://www.iwara.tv/video/yoarvh5d9rc0jnemg', creator='Nanohana', category='Dance', post='https://discuss.eroscripts.com/t/dance-sex-mmd-scripts/126799', Comments=' ', description='シニカルナイトプラン', music='シニカルナイトプラン', artist='Ayase', bpm='120', HQ='TRUE', Check='TRUE', _14='')\n",
      "Pandas(Index=45, _1='46', title='シニカルナイトプラン Szhr ○○ Cynical night plan', link='https://www.iwara.tv/video/lwyy6igwwrf8d5no3', creator='r32tanu', category='Dance', post='https://discuss.eroscripts.com/t/dance-sex-mmd-scripts/126799', Comments=' ', description='シニカルナイトプラン', music='シニカルナイトプラン', artist='Ayase', bpm='120', HQ='TRUE', Check='TRUE', _14='')\n",
      "Pandas(Index=46, _1='47', title='シニカルナイトプラン【Lo-chan】', link='https://www.iwara.tv/video/vkdrvtjzxhezjvrz', creator='Inoshin0908', category='Dance', post='https://discuss.eroscripts.com/t/dance-sex-mmd-scripts/126799', Comments=' ', description='シニカルナイトプラン', music='シニカルナイトプラン', artist='Ayase', bpm='120', HQ='TRUE', Check='TRUE', _14='')\n",
      "Pandas(Index=47, _1='48', title='シニカルナイトプラン【透け水着ミク】', link='https://www.iwara.tv/video/o8wzvco4bcbql9kz', creator='Inoshin0908', category='Dance', post='https://discuss.eroscripts.com/t/dance-sex-mmd-scripts/126799', Comments='representative', description='シニカルナイトプラン', music='シニカルナイトプラン', artist='Ayase', bpm='120', HQ='TRUE', Check='TRUE', _14='')\n",
      "Pandas(Index=48, _1='49', title='雪美「シニカルナイトプラン」', link='https://www.iwara.tv/video/akaoec3n7yt8ykg2y', creator='meme432', category='Sex & Dance', post='https://discuss.eroscripts.com/t/dance-sex-mmd-scripts/126799', Comments='  ', description='シニカルナイトプラン', music='シニカルナイトプラン', artist='Ayase', bpm='120', HQ='TRUE', Check='TRUE', _14='')\n",
      "Pandas(Index=49, _1='50', title='紫〇シ〇ンでシニカルナイトプラン', link='', creator='000MMD', category='Paid Videos', post='https://discuss.eroscripts.com/t/dance-sex-mmd-scripts/126799', Comments='21 08', description='シニカルナイトプラン', music='シニカルナイトプラン', artist='Ayase', bpm='120', HQ='TRUE', Check='TRUE', _14='')\n",
      "Pandas(Index=50, _1='51', title='リ〇・ヘ〇エ〇タでシニカルナイトプラン', link='https://www.patreon.com/user?u=13538527', creator='000MMD', category='Paid Videos', post='https://discuss.eroscripts.com/t/dance-sex-mmd-scripts/126799', Comments='22 06, representative', description='シニカルナイトプラン', music='シニカルナイトプラン', artist='Ayase', bpm='120', HQ='TRUE', Check='TRUE', _14='Note that there is another script https://discuss.eroscripts.com/t/dance-mmd-collection-mmd-000-ngon-mmd/75803')\n",
      "Pandas(Index=51, _1='52', title='2Bでシニカルナイトプラン', link='', creator='000MMD', category='Paid Videos', post='https://discuss.eroscripts.com/t/dance-sex-mmd-scripts/126799', Comments='21 06', description='シニカルナイトプラン', music='シニカルナイトプラン', artist='Ayase', bpm='120', HQ='TRUE', Check='TRUE', _14='')\n",
      "Pandas(Index=52, _1='53', title='[2160P60FPS500MB]きゃっときりたんのシニカルナイトプラン', link='', creator='nanasi108', category='Paid Videos', post='https://discuss.eroscripts.com/t/dance-sex-mmd-scripts/126799', Comments='21 05', description='シニカルナイトプラン', music='シニカルナイトプラン', artist='Ayase', bpm='120', HQ='TRUE', Check='TRUE', _14='')\n",
      "Pandas(Index=53, _1='54', title='[2160P60FPS530MB]きゃっとイリヤのシニカルナイトプラン', link='', creator='nanasi108', category='Paid Videos', post='https://discuss.eroscripts.com/t/dance-sex-mmd-scripts/126799', Comments='21 05', description='シニカルナイトプラン', music='シニカルナイトプラン', artist='Ayase', bpm='120', HQ='TRUE', Check='TRUE', _14='')\n",
      "Pandas(Index=54, _1='55', title='[2160P60FPS600MB]きゃっと3号くんのシニカルナイトプラン', link='', creator='nanasi108', category='Paid Videos', post='https://discuss.eroscripts.com/t/dance-sex-mmd-scripts/126799', Comments='21 05', description='シニカルナイトプラン', music='シニカルナイトプラン', artist='Ayase', bpm='120', HQ='TRUE', Check='TRUE', _14='')\n",
      "Pandas(Index=55, _1='56', title='[2160P60FPS600MB]きゃっとイリヤきりたんのシニカルナイトプラン', link='https://fantia.jp/fanclubs/117535', creator='nanasi108', category='Paid Videos', post='https://discuss.eroscripts.com/t/dance-sex-mmd-scripts/126799', Comments='21 05, representative', description='シニカルナイトプラン', music='シニカルナイトプラン', artist='Ayase', bpm='120', HQ='TRUE', Check='TRUE', _14='')\n",
      "Pandas(Index=56, _1='57', title='[4K]クロエのシニカルナイトプラン', link='', creator='nanasi108', category='Paid Videos', post='https://discuss.eroscripts.com/t/dance-sex-mmd-scripts/126799', Comments='21 08', description='シニカルナイトプラン', music='シニカルナイトプラン', artist='Ayase', bpm='120', HQ='TRUE', Check='TRUE', _14='')\n",
      "Pandas(Index=57, _1='58', title='[4K]美遊のシニカルナイトプラン', link='', creator='nanasi108', category='Paid Videos', post='https://discuss.eroscripts.com/t/dance-sex-mmd-scripts/126799', Comments='22 01', description='シニカルナイトプラン', music='シニカルナイトプラン', artist='Ayase', bpm='120', HQ='TRUE', Check='TRUE', _14='')\n",
      "Pandas(Index=58, _1='59', title='[WQHD]にぷれすセイバーアルトリアのシニカルナイトプラン', link='', creator='nanasi108', category='Paid Videos', post='https://discuss.eroscripts.com/t/dance-sex-mmd-scripts/126799', Comments='22 04', description='シニカルナイトプラン', music='シニカルナイトプラン', artist='Ayase', bpm='120', HQ='TRUE', Check='TRUE', _14='')\n",
      "Pandas(Index=59, _1='60', title='[WQHD]バニーセイバーアルトリアのシニカルナイトプラン', link='', creator='nanasi108', category='Paid Videos', post='https://discuss.eroscripts.com/t/dance-sex-mmd-scripts/126799', Comments='22 04', description='シニカルナイトプラン', music='シニカルナイトプラン', artist='Ayase', bpm='120', HQ='TRUE', Check='TRUE', _14='')\n",
      "Pandas(Index=60, _1='61', title='[WQHD]逆バニーセイバーオルタのシニカルナイトプラン', link='', creator='nanasi108', category='Paid Videos', post='https://discuss.eroscripts.com/t/dance-sex-mmd-scripts/126799', Comments='22 04', description='シニカルナイトプラン', music='シニカルナイトプラン', artist='Ayase', bpm='120', HQ='TRUE', Check='TRUE', _14='')\n"
     ]
    }
   ],
   "source": [
    "for row in df_filtered.itertuples():\n",
    "  print(row)"
   ]
  },
  {
   "cell_type": "markdown",
   "metadata": {},
   "source": [
    "## Test for normalization"
   ]
  },
  {
   "cell_type": "code",
   "execution_count": 5,
   "metadata": {},
   "outputs": [
    {
     "name": "stdout",
     "output_type": "stream",
     "text": [
      "dict_keys(['actions', 'inverted', 'metadata', 'range', 'version'])\n",
      "False\n",
      "{'bookmarks': [], 'chapters': [], 'creator': '', 'description': '', 'duration': 302, 'license': '', 'notes': '', 'performers': [], 'script_url': '', 'tags': [], 'title': '', 'type': 'basic', 'video_url': ''}\n",
      "100\n",
      "1.0\n"
     ]
    }
   ],
   "source": [
    "import json\n",
    "\n",
    "file_name = '/Volumes/MacExHDD/MMD/dance/Happy Halloween/Iwara - エッチなハロウィンコスのマキマキにいたずらされる Happy Halloween [arzzzsgbjgf89z22x] [Source]_music.funscript'\n",
    "json_open = open(file_name, 'r')\n",
    "json_load = json.load(json_open)\n",
    "print(json_load.keys())\n",
    "print(json_load['inverted'])\n",
    "print(json_load['metadata'])\n",
    "print(json_load['range'])\n",
    "print(json_load['version'])"
   ]
  },
  {
   "cell_type": "code",
   "execution_count": 6,
   "metadata": {},
   "outputs": [
    {
     "data": {
      "text/plain": [
       "0.27022133135695997"
      ]
     },
     "execution_count": 6,
     "metadata": {},
     "output_type": "execute_result"
    }
   ],
   "source": [
    "import numpy as np\n",
    "\n",
    "actions = json_load['actions']\n",
    "delta_t = 0\n",
    "delta_z = 0\n",
    "for i in range(len(actions) - 1):\n",
    "  delta_t += actions[i+1]['at'] - actions[i]['at']\n",
    "  delta_z += np.abs(actions[i+1]['pos'] - actions[i]['pos'])\n",
    "delta_z / delta_t"
   ]
  },
  {
   "cell_type": "code",
   "execution_count": 1,
   "metadata": {},
   "outputs": [],
   "source": [
    "import normalize\n",
    "normalize.normalize('/Volumes/MacExHDD/MMD/dance/Happy Halloween/Iwara - エッチなハロウィンコスのマキマキにいたずらされる Happy Halloween [arzzzsgbjgf89z22x] [Source]_music.funscript', gain=2)"
   ]
  },
  {
   "cell_type": "code",
   "execution_count": null,
   "metadata": {},
   "outputs": [],
   "source": []
  }
 ],
 "metadata": {
  "kernelspec": {
   "display_name": "base",
   "language": "python",
   "name": "python3"
  },
  "language_info": {
   "codemirror_mode": {
    "name": "ipython",
    "version": 3
   },
   "file_extension": ".py",
   "mimetype": "text/x-python",
   "name": "python",
   "nbconvert_exporter": "python",
   "pygments_lexer": "ipython3",
   "version": "3.9.7"
  }
 },
 "nbformat": 4,
 "nbformat_minor": 2
}
