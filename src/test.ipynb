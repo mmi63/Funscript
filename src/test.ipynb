{
 "cells": [
  {
   "cell_type": "markdown",
   "metadata": {},
   "source": [
    "# Test for spreadsheet in/out"
   ]
  },
  {
   "cell_type": "code",
   "execution_count": 2,
   "metadata": {},
   "outputs": [],
   "source": [
    "import gspread\n",
    "from oauth2client.service_account import ServiceAccountCredentials\n",
    "\n",
    "scope = ['https://spreadsheets.google.com/feeds', 'https://www.googleapis.com/auth/drive']\n",
    "credentials = ServiceAccountCredentials.from_json_keyfile_name('funscript-4be905c4dda4.json', scope)\n",
    "gc = gspread.authorize(credentials)\n",
    "SPREADSHEET_KEY = '1CWxXCjYrvOH01FGGQX5wR-imdng848vw6HfxawA6oUI'\n",
    "worksheet = gc.open_by_key(SPREADSHEET_KEY).sheet1"
   ]
  },
  {
   "cell_type": "code",
   "execution_count": 9,
   "metadata": {},
   "outputs": [],
   "source": [
    "import pandas as pd\n",
    "\n",
    "data = worksheet.get_all_values()\n",
    "df = pd.DataFrame(data[1:], columns=data[0])"
   ]
  },
  {
   "cell_type": "code",
   "execution_count": 11,
   "metadata": {},
   "outputs": [
    {
     "data": {
      "text/html": [
       "<div>\n",
       "<style scoped>\n",
       "    .dataframe tbody tr th:only-of-type {\n",
       "        vertical-align: middle;\n",
       "    }\n",
       "\n",
       "    .dataframe tbody tr th {\n",
       "        vertical-align: top;\n",
       "    }\n",
       "\n",
       "    .dataframe thead th {\n",
       "        text-align: right;\n",
       "    }\n",
       "</style>\n",
       "<table border=\"1\" class=\"dataframe\">\n",
       "  <thead>\n",
       "    <tr style=\"text-align: right;\">\n",
       "      <th></th>\n",
       "      <th>#</th>\n",
       "      <th>title</th>\n",
       "      <th>link</th>\n",
       "      <th>creator</th>\n",
       "      <th>post</th>\n",
       "      <th>description</th>\n",
       "      <th>category</th>\n",
       "      <th>music</th>\n",
       "      <th>artist</th>\n",
       "      <th>bpm</th>\n",
       "      <th>HQ</th>\n",
       "      <th>Check</th>\n",
       "      <th>Comments</th>\n",
       "      <th></th>\n",
       "    </tr>\n",
       "  </thead>\n",
       "  <tbody>\n",
       "    <tr>\n",
       "      <th>28</th>\n",
       "      <td>29</td>\n",
       "      <td>[MMD R18]きゃっとイリヤのシニカルナイトプラン</td>\n",
       "      <td>https://www.iwara.tv/video/v9xxvu97qhe92w8v</td>\n",
       "      <td>nanashi108</td>\n",
       "      <td></td>\n",
       "      <td>シニカルナイトプラン</td>\n",
       "      <td>Dance</td>\n",
       "      <td>シニカルナイトプラン</td>\n",
       "      <td>Ayase</td>\n",
       "      <td>120</td>\n",
       "      <td>TRUE</td>\n",
       "      <td>TRUE</td>\n",
       "      <td></td>\n",
       "      <td></td>\n",
       "    </tr>\n",
       "    <tr>\n",
       "      <th>29</th>\n",
       "      <td>30</td>\n",
       "      <td>[MMD R18]きゃっときりたんのシニカルナイトプラン</td>\n",
       "      <td>https://www.iwara.tv/video/odvl0ijyws1vw2mm</td>\n",
       "      <td>nanashi108</td>\n",
       "      <td></td>\n",
       "      <td>シニカルナイトプラン</td>\n",
       "      <td>Dance</td>\n",
       "      <td>シニカルナイトプラン</td>\n",
       "      <td>Ayase</td>\n",
       "      <td>120</td>\n",
       "      <td>TRUE</td>\n",
       "      <td>TRUE</td>\n",
       "      <td></td>\n",
       "      <td></td>\n",
       "    </tr>\n",
       "    <tr>\n",
       "      <th>30</th>\n",
       "      <td>31</td>\n",
       "      <td>[MMD R18]バニーセイバーアルトリアのシニカルナイトプラン</td>\n",
       "      <td>https://www.iwara.tv/video/jo7qbslgesg1jw1k</td>\n",
       "      <td>nanashi108</td>\n",
       "      <td></td>\n",
       "      <td>シニカルナイトプラン</td>\n",
       "      <td>Dance</td>\n",
       "      <td>シニカルナイトプラン</td>\n",
       "      <td>Ayase</td>\n",
       "      <td>120</td>\n",
       "      <td>TRUE</td>\n",
       "      <td>TRUE</td>\n",
       "      <td></td>\n",
       "      <td></td>\n",
       "    </tr>\n",
       "  </tbody>\n",
       "</table>\n",
       "</div>"
      ],
      "text/plain": [
       "     #                                title  \\\n",
       "28  29         [MMD R18]きゃっとイリヤのシニカルナイトプラン   \n",
       "29  30        [MMD R18]きゃっときりたんのシニカルナイトプラン   \n",
       "30  31  [MMD R18]バニーセイバーアルトリアのシニカルナイトプラン   \n",
       "\n",
       "                                           link     creator post description  \\\n",
       "28  https://www.iwara.tv/video/v9xxvu97qhe92w8v  nanashi108       シニカルナイトプラン   \n",
       "29  https://www.iwara.tv/video/odvl0ijyws1vw2mm  nanashi108       シニカルナイトプラン   \n",
       "30  https://www.iwara.tv/video/jo7qbslgesg1jw1k  nanashi108       シニカルナイトプラン   \n",
       "\n",
       "   category       music artist  bpm    HQ Check Comments    \n",
       "28    Dance  シニカルナイトプラン  Ayase  120  TRUE  TRUE             \n",
       "29    Dance  シニカルナイトプラン  Ayase  120  TRUE  TRUE             \n",
       "30    Dance  シニカルナイトプラン  Ayase  120  TRUE  TRUE             "
      ]
     },
     "execution_count": 11,
     "metadata": {},
     "output_type": "execute_result"
    }
   ],
   "source": [
    "df_filtered = df[df['description']==\"シニカルナイトプラン\"]\n",
    "df_filtered[0:3]"
   ]
  },
  {
   "cell_type": "code",
   "execution_count": 12,
   "metadata": {},
   "outputs": [
    {
     "name": "stdout",
     "output_type": "stream",
     "text": [
      "Pandas(Index=28, _1='29', title='[MMD R18]きゃっとイリヤのシニカルナイトプラン', link='https://www.iwara.tv/video/v9xxvu97qhe92w8v', creator='nanashi108', post='', description='シニカルナイトプラン', category='Dance', music='シニカルナイトプラン', artist='Ayase', bpm='120', HQ='TRUE', Check='TRUE', Comments='', _14='')\n",
      "Pandas(Index=29, _1='30', title='[MMD R18]きゃっときりたんのシニカルナイトプラン', link='https://www.iwara.tv/video/odvl0ijyws1vw2mm', creator='nanashi108', post='', description='シニカルナイトプラン', category='Dance', music='シニカルナイトプラン', artist='Ayase', bpm='120', HQ='TRUE', Check='TRUE', Comments='', _14='')\n",
      "Pandas(Index=30, _1='31', title='[MMD R18]バニーセイバーアルトリアのシニカルナイトプラン', link='https://www.iwara.tv/video/jo7qbslgesg1jw1k', creator='nanashi108', post='', description='シニカルナイトプラン', category='Dance', music='シニカルナイトプラン', artist='Ayase', bpm='120', HQ='TRUE', Check='TRUE', Comments='', _14='')\n",
      "Pandas(Index=31, _1='32', title='[MMD R18]美遊のシニカルナイトプラン', link='https://www.iwara.tv/video/vmkwysl3zfezbvwz', creator='nanashi108', post='', description='シニカルナイトプラン', category='Dance', music='シニカルナイトプラン', artist='Ayase', bpm='120', HQ='TRUE', Check='TRUE', Comments='', _14='')\n",
      "Pandas(Index=32, _1='33', title='[艦これ][紳士ハンド]山風でシニカルナイトプラン', link='https://www.iwara.tv/video/yzbeghvqmqf0gqryv', creator='HAL EN', post='', description='シニカルナイトプラン', category='Dance + Omake', music='シニカルナイトプラン', artist='Ayase', bpm='120', HQ='TRUE', Check='TRUE', Comments='', _14='')\n",
      "Pandas(Index=33, _1='34', title='シニカルナイトプラン・Cynical Night Plan Sour Miku', link='https://www.iwara.tv/video/kxk6yt8o3zhqbe0q2', creator='moneko', post='', description='シニカルナイトプラン', category='Dance', music='シニカルナイトプラン', artist='Ayase', bpm='120', HQ='TRUE', Check='TRUE', Comments='', _14='')\n",
      "Pandas(Index=34, _1='35', title='【MMD R-18】ミクさんでシニカルナイトプラン', link='https://www.iwara.tv/video/03qgdtxpgtzr36ll', creator='mmdhhk', post='', description='シニカルナイトプラン', category='Dance', music='シニカルナイトプラン', artist='Ayase', bpm='120', HQ='TRUE', Check='TRUE', Comments='representative', _14='')\n",
      "Pandas(Index=35, _1='36', title='【MMD R-18】ライザちゃんでシニカルナイトプラン', link='https://www.iwara.tv/video/ak9pzfme8u8y9k6q', creator='mmdhhk', post='', description='シニカルナイトプラン', category='Dance', music='シニカルナイトプラン', artist='Ayase', bpm='120', HQ='TRUE', Check='TRUE', Comments='', _14='')\n",
      "Pandas(Index=36, _1='37', title='【MMD R18】ランジェリーなAQたんで「シニカルナイトプラン」', link='https://www.iwara.tv/video/yq9rbtr1wc9g1zrq', creator='ダンリック', post='', description='シニカルナイトプラン', category='Dance', music='シニカルナイトプラン', artist='Ayase', bpm='120', HQ='TRUE', Check='TRUE', Comments='', _14='')\n",
      "Pandas(Index=37, _1='38', title='Cynical Night Plan', link='https://www.iwara.tv/video/doglbcrewik82zv6', creator='zekamashi7', post='', description='シニカルナイトプラン', category='Dance', music='シニカルナイトプラン', artist='Ayase', bpm='120', HQ='TRUE', Check='TRUE', Comments='', _14='')\n",
      "Pandas(Index=38, _1='39', title='Cynical night plan', link='https://www.iwara.tv/video/e1dzbsbmnmck58mgm', creator='avharu', post='', description='シニカルナイトプラン', category='Dance', music='シニカルナイトプラン', artist='Ayase', bpm='120', HQ='TRUE', Check='TRUE', Comments='representative', _14='')\n",
      "Pandas(Index=39, _1='40', title='ペコリーヌ シニカルナイトプラン', link='https://www.iwara.tv/video/lwokqilzzzunyppav', creator='avharu', post='', description='シニカルナイトプラン', category='Dance', music='シニカルナイトプラン', artist='Ayase', bpm='120', HQ='TRUE', Check='TRUE', Comments='', _14='')\n",
      "Pandas(Index=40, _1='41', title='リン シニカルナイトプラン', link='https://www.iwara.tv/video/5aa1btpqaqtwr84mz', creator='avharu', post='', description='シニカルナイトプラン', category='Dance', music='シニカルナイトプラン', artist='Ayase', bpm='120', HQ='TRUE', Check='TRUE', Comments='different offset', _14='')\n",
      "Pandas(Index=41, _1='42', title='S.T - Cynical Night Plan', link='https://www.iwara.tv/video/9jg67s3xn9uzjmbg5', creator='icewhitemoca', post='', description='シニカルナイトプラン', category='Dance', music='シニカルナイトプラン', artist='Ayase', bpm='120', HQ='TRUE', Check='TRUE', Comments='', _14='')\n",
      "Pandas(Index=42, _1='43', title='アイリベルダ シニカルナイトプラン', link='https://www.iwara.tv/video/344m5sry4f80mnay', creator='heirdamu', post='', description='シニカルナイトプラン', category='Dance', music='シニカルナイトプラン', artist='Ayase', bpm='120', HQ='TRUE', Check='TRUE', Comments='', _14='')\n",
      "Pandas(Index=43, _1='44', title='シニカルナイトプラン / Cynical Night Plan | 獅白ぼたん / Shishiro Botan POV', link='https://www.iwara.tv/video/r8aexfmkvridpo6e9', creator='poyopoyo', post='', description='シニカルナイトプラン', category='Sex & Dance', music='シニカルナイトプラン', artist='Ayase', bpm='120', HQ='TRUE', Check='TRUE', Comments='', _14='')\n",
      "Pandas(Index=44, _1='45', title='シニカルナイトプラン', link='https://www.iwara.tv/video/7gmwwc1xlpsm9vkz6', creator='千刃花', post='', description='シニカルナイトプラン', category='Sex & Dance', music='シニカルナイトプラン', artist='Ayase', bpm='120', HQ='TRUE', Check='FALSE', Comments='start sex script', _14='')\n",
      "Pandas(Index=45, _1='46', title='シニカルナイトプラン', link='https://www.iwara.tv/video/yoarvh5d9rc0jnemg', creator='Nanohana', post='', description='シニカルナイトプラン', category='Dance', music='シニカルナイトプラン', artist='Ayase', bpm='120', HQ='TRUE', Check='TRUE', Comments='', _14='')\n",
      "Pandas(Index=46, _1='47', title='シニカルナイトプラン Szhr ○○ Cynical night plan', link='https://www.iwara.tv/video/lwyy6igwwrf8d5no3', creator='r32tanu', post='', description='シニカルナイトプラン', category='Dance', music='シニカルナイトプラン', artist='Ayase', bpm='120', HQ='TRUE', Check='TRUE', Comments='', _14='')\n",
      "Pandas(Index=47, _1='48', title='シニカルナイトプラン【Lo-chan】', link='https://www.iwara.tv/video/vkdrvtjzxhezjvrz', creator='Inoshin0908', post='', description='シニカルナイトプラン', category='Dance', music='シニカルナイトプラン', artist='Ayase', bpm='120', HQ='TRUE', Check='TRUE', Comments='', _14='')\n",
      "Pandas(Index=48, _1='49', title='シニカルナイトプラン【透け水着ミク】', link='https://www.iwara.tv/video/o8wzvco4bcbql9kz', creator='Inoshin0908', post='', description='シニカルナイトプラン', category='Dance', music='シニカルナイトプラン', artist='Ayase', bpm='120', HQ='TRUE', Check='TRUE', Comments='representative', _14='')\n",
      "Pandas(Index=49, _1='50', title='雪美「シニカルナイトプラン」', link='https://www.iwara.tv/video/akaoec3n7yt8ykg2y', creator='meme432', post='', description='シニカルナイトプラン', category='Dance + Omake', music='シニカルナイトプラン', artist='Ayase', bpm='120', HQ='TRUE', Check='TRUE', Comments='', _14='')\n"
     ]
    }
   ],
   "source": [
    "for row in df_filtered.itertuples():\n",
    "  print(row)"
   ]
  },
  {
   "cell_type": "code",
   "execution_count": null,
   "metadata": {},
   "outputs": [],
   "source": []
  }
 ],
 "metadata": {
  "kernelspec": {
   "display_name": "base",
   "language": "python",
   "name": "python3"
  },
  "language_info": {
   "codemirror_mode": {
    "name": "ipython",
    "version": 3
   },
   "file_extension": ".py",
   "mimetype": "text/x-python",
   "name": "python",
   "nbconvert_exporter": "python",
   "pygments_lexer": "ipython3",
   "version": "3.9.7"
  }
 },
 "nbformat": 4,
 "nbformat_minor": 2
}
